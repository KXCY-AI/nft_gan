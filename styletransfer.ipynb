{
 "cells": [
  {
   "cell_type": "markdown",
   "metadata": {},
   "source": [
    "## styletransfer\n",
    "\n",
    "source code for OpenSea collection: [Style Transfer Arts](https://opensea.io/collection/styletransfer)"
   ]
  },
  {
   "cell_type": "markdown",
   "metadata": {},
   "source": [
    "### 1. import libary"
   ]
  },
  {
   "cell_type": "code",
   "execution_count": null,
   "metadata": {},
   "outputs": [],
   "source": [
    "import matplotlib.pyplot as plt\n",
    "import tensorflow as tf\n",
    "import numpy as np\n",
    "from PIL import Image"
   ]
  },
  {
   "cell_type": "markdown",
   "metadata": {},
   "source": [
    "### 2. Configuration"
   ]
  },
  {
   "cell_type": "code",
   "execution_count": null,
   "metadata": {},
   "outputs": [],
   "source": [
    "max_dim = 640\n",
    "content_path = '1.jpg'\n",
    "style_path = '2.jpg'\n",
    "stpes = 501\n",
    "style_weight=5.0\n",
    "content_weight=0.025\n",
    "total_variation_weight=30\n",
    "save_img = True"
   ]
  },
  {
   "cell_type": "code",
   "execution_count": null,
   "metadata": {},
   "outputs": [],
   "source": [
    "def load_img(path_to_img):\n",
    "    img = tf.io.read_file(path_to_img)\n",
    "    img = tf.image.decode_image(img, \n",
    "                                channels=3, \n",
    "                                dtype=tf.float32)\n",
    "    shape = tf.cast(tf.shape(img)[:-1], tf.float32)\n",
    "    long_dim = max(shape)\n",
    "    scale = max_dim / long_dim\n",
    "    new_shape = tf.cast(shape * scale, tf.int32)\n",
    "    img = tf.image.resize(img, new_shape)\n",
    "    img = img[tf.newaxis, :]\n",
    "    return img"
   ]
  },
  {
   "cell_type": "code",
   "execution_count": null,
   "metadata": {},
   "outputs": [],
   "source": [
    "def imshow(image, title=None):    \n",
    "    if len(image.shape) > 3:\n",
    "        image = tf.squeeze(image)\n",
    "    plt.imshow(image)\n",
    "    \n",
    "    if title:\n",
    "        plt.title(title)\n",
    "        \n",
    "    plt.axis('off')\n",
    "    plt.show()"
   ]
  },
  {
   "cell_type": "code",
   "execution_count": null,
   "metadata": {},
   "outputs": [],
   "source": [
    "content_image = load_img(content_path)\n",
    "style_image = load_img(style_path)"
   ]
  },
  {
   "cell_type": "markdown",
   "metadata": {},
   "source": [
    "### 3. load VGG16 Pre-train model"
   ]
  },
  {
   "cell_type": "code",
   "execution_count": null,
   "metadata": {},
   "outputs": [],
   "source": [
    "vgg = tf.keras.applications.VGG16(include_top=False, weights='imagenet')"
   ]
  },
  {
   "cell_type": "markdown",
   "metadata": {},
   "source": [
    "### 4. nn building"
   ]
  },
  {
   "cell_type": "code",
   "execution_count": null,
   "metadata": {},
   "outputs": [],
   "source": [
    "content_layers = ['block4_conv2'] \n",
    "\n",
    "# content_layers = ['block2_conv2'] \n",
    "\n",
    "style_layers = ['block1_conv1',\n",
    "                'block2_conv1',\n",
    "                'block3_conv1', \n",
    "                'block4_conv1', \n",
    "                'block5_conv1']"
   ]
  },
  {
   "cell_type": "code",
   "execution_count": null,
   "metadata": {},
   "outputs": [],
   "source": [
    "def vgg_model(layer_names):\n",
    "    vgg = tf.keras.applications.VGG16(include_top=False, \\\n",
    "    weights='imagenet')\n",
    "    vgg.trainable = False\n",
    "    outputs = [vgg.get_layer(name).output for name in layer_names]\n",
    "    model = tf.keras.Model([vgg.input], outputs)\n",
    "    return model"
   ]
  },
  {
   "cell_type": "code",
   "execution_count": null,
   "metadata": {},
   "outputs": [],
   "source": [
    "def gram_matrix(input_tensor):\n",
    "\n",
    "    result = tf.linalg.einsum('bijc,bijd->bcd', input_tensor, input_tensor)\n",
    "    input_shape = tf.shape(input_tensor)\n",
    "    num_locations = tf.cast(input_shape[1]*input_shape[2], tf.float32)\n",
    "    return result/(num_locations)"
   ]
  },
  {
   "cell_type": "code",
   "execution_count": null,
   "metadata": {},
   "outputs": [],
   "source": [
    "class StyleContentModel(tf.keras.models.Model):\n",
    "    \n",
    "    def __init__(self, style_layers, content_layers):\n",
    "        super(StyleContentModel, self).__init__()\n",
    "        self.vgg =  vgg_model(style_layers + content_layers)\n",
    "        self.style_layers = style_layers\n",
    "        self.content_layers = content_layers\n",
    "        self.num_style_layers = len(style_layers)\n",
    "\n",
    "    def call(self, inputs):\n",
    "        \n",
    "        preprocessed_input = tf.keras.applications.vgg16.preprocess_input(inputs*255.0)\n",
    "        outputs = self.vgg(preprocessed_input)\n",
    "        style_outputs, content_outputs = (outputs[:self.num_style_layers], \n",
    "                                          outputs[self.num_style_layers:])\n",
    "        style_outputs = [gram_matrix(style_output) for style_output in style_outputs]\n",
    "        style_dict = {style_name:value for style_name, \n",
    "                      value in zip(self.style_layers, style_outputs)}\n",
    "        \n",
    "        content_dict = {content_name:value for content_name, \n",
    "                        value in zip(self.content_layers, content_outputs)}\n",
    "        \n",
    "        return {'content':content_dict, 'style':style_dict}"
   ]
  },
  {
   "cell_type": "code",
   "execution_count": null,
   "metadata": {},
   "outputs": [],
   "source": [
    "extractor = StyleContentModel(style_layers, content_layers)\n",
    "results = extractor(tf.constant(content_image))\n",
    "style_results = results['style']"
   ]
  },
  {
   "cell_type": "code",
   "execution_count": null,
   "metadata": {},
   "outputs": [],
   "source": [
    "style_targets = extractor(style_image)['style']\n",
    "content_targets = extractor(content_image)['content']\n",
    "image = tf.Variable(content_image)\n",
    "\n",
    "opt = tf.optimizers.Adam(learning_rate=0.02, \n",
    "                         beta_1=0.99, \n",
    "                         epsilon=1e-1)\n",
    "\n",
    "def clip_0_1(image):\n",
    "    return tf.clip_by_value(image, clip_value_min=0.0, clip_value_max=1.0)"
   ]
  },
  {
   "cell_type": "code",
   "execution_count": null,
   "metadata": {},
   "outputs": [],
   "source": [
    "num_content_layers = len(content_layers)\n",
    "num_style_layers = len(style_layers)"
   ]
  },
  {
   "cell_type": "code",
   "execution_count": null,
   "metadata": {},
   "outputs": [],
   "source": [
    "def style_content_loss(outputs):    \n",
    "    style_outputs = outputs['style']    \n",
    "    content_outputs = outputs['content']    \n",
    "    style_loss = tf.add_n([tf.reduce_mean((style_outputs[name]-\\\n",
    "                                           style_targets[name])**2) \n",
    "                           for name in style_outputs.keys()])    \n",
    "    style_loss *= style_weight / num_style_layers   \n",
    "    content_loss = tf.add_n([tf.reduce_mean((content_outputs[name]-\\\n",
    "                                             content_targets[name])**2) \n",
    "                             for name in content_outputs.keys()])\n",
    "    \n",
    "    content_loss *= content_weight / num_content_layers    \n",
    "    loss = style_loss + content_loss\n",
    "    return loss\n",
    "\n",
    "def total_variation_loss(image):\n",
    "    x_deltas = image[:,:,1:,:] - image[:,:,:-1,:]\n",
    "    y_deltas = image[:,1:,:,:] - image[:,:-1,:,:]\n",
    "    return tf.reduce_mean(x_deltas**2) + tf.reduce_mean(y_deltas**2)"
   ]
  },
  {
   "cell_type": "code",
   "execution_count": null,
   "metadata": {},
   "outputs": [],
   "source": [
    "@tf.function()\n",
    "\n",
    "def train_step(image):\n",
    "\n",
    "    with tf.GradientTape() as tape:\n",
    "        \n",
    "        outputs = extractor(image)\n",
    "        loss = style_content_loss(outputs)\n",
    "        loss += total_variation_weight*total_variation_loss(image)\n",
    "    \n",
    "    grad = tape.gradient(loss, image)\n",
    "    opt.apply_gradients([(grad, image)])\n",
    "    image.assign(clip_0_1(image))"
   ]
  },
  {
   "cell_type": "markdown",
   "metadata": {},
   "source": [
    "### 5. model training"
   ]
  },
  {
   "cell_type": "code",
   "execution_count": null,
   "metadata": {
    "scrolled": false
   },
   "outputs": [],
   "source": [
    "for n in range(stpes):\n",
    "    train_step(image)\n",
    "    if n%50==0:\n",
    "        imshow(image.read_value(), \"epoch: {}\".format(n))\n",
    "        if save_img==True:\n",
    "            s_image = tf.squeeze(image)\n",
    "            s_image = Image.fromarray(np.uint8(s_image.numpy()*255))\n",
    "            s_image.save('result/'+'steps_'+str(n)+'.jpg')"
   ]
  }
 ],
 "metadata": {
  "kernelspec": {
   "display_name": "Python 3",
   "language": "python",
   "name": "python3"
  },
  "language_info": {
   "codemirror_mode": {
    "name": "ipython",
    "version": 3
   },
   "file_extension": ".py",
   "mimetype": "text/x-python",
   "name": "python",
   "nbconvert_exporter": "python",
   "pygments_lexer": "ipython3",
   "version": "3.6.9"
  },
  "toc": {
   "base_numbering": 1,
   "nav_menu": {},
   "number_sections": false,
   "sideBar": true,
   "skip_h1_title": true,
   "title_cell": "Table of Contents",
   "title_sidebar": "Contents",
   "toc_cell": false,
   "toc_position": {
    "height": "calc(100% - 180px)",
    "left": "10px",
    "top": "150px",
    "width": "304.2px"
   },
   "toc_section_display": true,
   "toc_window_display": false
  }
 },
 "nbformat": 4,
 "nbformat_minor": 2
}
